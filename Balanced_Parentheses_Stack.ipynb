{
 "cells": [
  {
   "cell_type": "code",
   "execution_count": 26,
   "metadata": {},
   "outputs": [],
   "source": [
    "class Stack:\n",
    "    def __init__(self):\n",
    "        self.item = []\n",
    "    def is_empty(self):\n",
    "        return self.item == []\n",
    "    def push(self, items):\n",
    "        self.item.insert(0, items)\n",
    "    def pop(self):\n",
    "        return self.item.pop(0)\n",
    "    def peek(self):\n",
    "        return self.item[0]\n",
    "    def size(self):\n",
    "        return len(self.item)"
   ]
  },
  {
   "cell_type": "code",
   "execution_count": 27,
   "metadata": {},
   "outputs": [],
   "source": [
    "def balanced_parenthesis(paren):\n",
    "    s=Stack()\n",
    "    for i in paren:\n",
    "        if i=='(':\n",
    "            s.push(i)\n",
    "        else:\n",
    "            if s.is_empty()==False:\n",
    "                s.pop()\n",
    "    if s.is_empty()==False:\n",
    "        print(\"Paranthesis is not balanced\")\n",
    "    else:\n",
    "        print(\"Paranthesis is balanced\")"
   ]
  },
  {
   "cell_type": "code",
   "execution_count": 30,
   "metadata": {},
   "outputs": [
    {
     "name": "stdout",
     "output_type": "stream",
     "text": [
      "Paranthesis is not balanced\n",
      "Paranthesis is not balanced\n"
     ]
    }
   ],
   "source": [
    "balanced_parenthesis('(()')\n",
    "balanced_parenthesis('(())')"
   ]
  },
  {
   "cell_type": "code",
   "execution_count": null,
   "metadata": {},
   "outputs": [],
   "source": []
  }
 ],
 "metadata": {
  "kernelspec": {
   "display_name": "Python 3",
   "language": "python",
   "name": "python3"
  },
  "language_info": {
   "codemirror_mode": {
    "name": "ipython",
    "version": 3
   },
   "file_extension": ".py",
   "mimetype": "text/x-python",
   "name": "python",
   "nbconvert_exporter": "python",
   "pygments_lexer": "ipython3",
   "version": "3.6.5"
  }
 },
 "nbformat": 4,
 "nbformat_minor": 2
}
