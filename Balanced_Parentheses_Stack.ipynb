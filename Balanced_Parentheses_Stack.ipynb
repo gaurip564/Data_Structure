{
 "cells": [
  {
   "cell_type": "code",
   "execution_count": 26,
   "metadata": {},
   "outputs": [],
   "source": [
    "class Stack:\n",
    "    def __init__(self):\n",
    "        self.item = []\n",
    "    def is_empty(self):\n",
    "        return self.item == []\n",
    "    def push(self, items):\n",
    "        self.item.insert(0, items)\n",
    "    def pop(self):\n",
    "        return self.item.pop(0)\n",
    "    def peek(self):\n",
    "        return self.item[0]\n",
    "    def size(self):\n",
    "        return len(self.item)"
   ]
  },
  {
   "cell_type": "code",
   "execution_count": 31,
   "metadata": {},
   "outputs": [],
   "source": [
    "def balanced_parenthesis(paren):\n",
    "    s=Stack()\n",
    "    index=0\n",
    "    balanced=True\n",
    "    while balanced and index<len(paren):\n",
    "        sym=paren[index]\n",
    "        if sym=='(':\n",
    "            s.push(sym)\n",
    "        else:\n",
    "            if s.is_empty():\n",
    "                balanced = False\n",
    "            else:\n",
    "                s.pop()\n",
    "        index=index+1\n",
    "    if balanced and s.is_empty():\n",
    "        print(\"Paranthesis is balanced\")\n",
    "    else:\n",
    "        print(\"Paranthesis is not balanced\")"
   ]
  },
  {
   "cell_type": "code",
   "execution_count": 34,
   "metadata": {},
   "outputs": [
    {
     "name": "stdout",
     "output_type": "stream",
     "text": [
      "Paranthesis is not balanced\n",
      "Paranthesis is balanced\n"
     ]
    }
   ],
   "source": [
    "balanced_parenthesis('(()')\n",
    "balanced_parenthesis('(())')"
   ]
  },
  {
   "cell_type": "code",
   "execution_count": null,
   "metadata": {},
   "outputs": [],
   "source": []
  }
 ],
 "metadata": {
  "kernelspec": {
   "display_name": "Python 3",
   "language": "python",
   "name": "python3"
  },
  "language_info": {
   "codemirror_mode": {
    "name": "ipython",
    "version": 3
   },
   "file_extension": ".py",
   "mimetype": "text/x-python",
   "name": "python",
   "nbconvert_exporter": "python",
   "pygments_lexer": "ipython3",
   "version": "3.6.5"
  }
 },
 "nbformat": 4,
 "nbformat_minor": 2
}
