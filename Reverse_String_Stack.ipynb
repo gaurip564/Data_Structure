{
 "cells": [
  {
   "cell_type": "code",
   "execution_count": 20,
   "metadata": {},
   "outputs": [],
   "source": [
    "class Stack:\n",
    "    def __init__(self):\n",
    "        self.item = []\n",
    "    def is_empty(self):\n",
    "        return self.item == []\n",
    "    def push(self, items):\n",
    "        self.item.insert(0, items)\n",
    "    def pop(self):\n",
    "        return self.item.pop(0)\n",
    "    def peek(self):\n",
    "        return self.item[0]\n",
    "    def size(self):\n",
    "        return len(self.item)"
   ]
  },
  {
   "cell_type": "code",
   "execution_count": 51,
   "metadata": {},
   "outputs": [],
   "source": [
    "def reverse_string(name):\n",
    "    for i in range(len(name)):\n",
    "        s.push(name[i])\n",
    "    while s.is_empty()==False:\n",
    "        print(s.pop(),end =\" \")"
   ]
  },
  {
   "cell_type": "code",
   "execution_count": 52,
   "metadata": {},
   "outputs": [
    {
     "name": "stdout",
     "output_type": "stream",
     "text": [
      "l a p   i n n i b "
     ]
    }
   ],
   "source": [
    "reverse_string('binni pal')"
   ]
  }
 ],
 "metadata": {
  "kernelspec": {
   "display_name": "Python 3",
   "language": "python",
   "name": "python3"
  },
  "language_info": {
   "codemirror_mode": {
    "name": "ipython",
    "version": 3
   },
   "file_extension": ".py",
   "mimetype": "text/x-python",
   "name": "python",
   "nbconvert_exporter": "python",
   "pygments_lexer": "ipython3",
   "version": "3.6.5"
  }
 },
 "nbformat": 4,
 "nbformat_minor": 2
}
