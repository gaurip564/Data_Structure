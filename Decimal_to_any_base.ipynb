{
 "cells": [
  {
   "cell_type": "code",
   "execution_count": 3,
   "metadata": {},
   "outputs": [],
   "source": [
    "class Stack:\n",
    "    def __init__(self):\n",
    "        self.item = []\n",
    "    def is_empty(self):\n",
    "        return self.item == []\n",
    "    def push(self, items):\n",
    "        self.item.insert(0, items)\n",
    "    def pop(self):\n",
    "        return self.item.pop(0)\n",
    "    def peek(self):\n",
    "        return self.item[0]\n",
    "    def size(self):\n",
    "        return len(self.item)"
   ]
  },
  {
   "cell_type": "code",
   "execution_count": 8,
   "metadata": {},
   "outputs": [],
   "source": [
    "def divide_by_base(number,base):\n",
    "    s=Stack()\n",
    "    while number>0:\n",
    "        rem= number%base\n",
    "        s.push(rem)\n",
    "        number=number//base\n",
    "    while not s.is_empty():\n",
    "        print(s.pop(),end='')"
   ]
  },
  {
   "cell_type": "code",
   "execution_count": 9,
   "metadata": {},
   "outputs": [
    {
     "name": "stdout",
     "output_type": "stream",
     "text": [
      "101011"
     ]
    }
   ],
   "source": [
    "divide_by_base(43,2)"
   ]
  },
  {
   "cell_type": "code",
   "execution_count": null,
   "metadata": {},
   "outputs": [],
   "source": []
  }
 ],
 "metadata": {
  "kernelspec": {
   "display_name": "Python 3",
   "language": "python",
   "name": "python3"
  },
  "language_info": {
   "codemirror_mode": {
    "name": "ipython",
    "version": 3
   },
   "file_extension": ".py",
   "mimetype": "text/x-python",
   "name": "python",
   "nbconvert_exporter": "python",
   "pygments_lexer": "ipython3",
   "version": "3.6.5"
  }
 },
 "nbformat": 4,
 "nbformat_minor": 2
}
